{
 "cells": [
  {
   "cell_type": "markdown",
   "metadata": {},
   "source": [
    "# レースデータの分析"
   ]
  },
  {
   "cell_type": "markdown",
   "metadata": {},
   "source": [
    "### 1. 必要なパッケージのインポート"
   ]
  },
  {
   "cell_type": "code",
   "execution_count": 14,
   "metadata": {},
   "outputs": [],
   "source": [
    "%matplotlib inline\n",
    "import pandas as pd\n",
    "import pandas_profiling as pdp"
   ]
  },
  {
   "cell_type": "markdown",
   "metadata": {},
   "source": [
    "### データ分析"
   ]
  },
  {
   "cell_type": "code",
   "execution_count": 3,
   "metadata": {},
   "outputs": [],
   "source": [
    "# csvファイルの読み込み\n",
    "df = pd.read_csv('race_data.csv')"
   ]
  },
  {
   "cell_type": "markdown",
   "metadata": {},
   "source": [
    "##### column名が日本語のせいで文字化けするので英語化する"
   ]
  },
  {
   "cell_type": "code",
   "execution_count": 3,
   "metadata": {},
   "outputs": [
    {
     "data": {
      "text/plain": [
       "Index(['着順', '枠番', '馬番', '馬名', '性齢', '斤量', '騎手', 'タイム', '着差', '単勝', '人気',\n",
       "       '馬体重', '調教師', 'race_id', 'horse_id', 'jockey_id', 'trainer_id',\n",
       "       'race_grade', 'race_type', 'wise', 'meter', 'weather', 'race_state',\n",
       "       'start_time'],\n",
       "      dtype='object')"
      ]
     },
     "execution_count": 3,
     "metadata": {},
     "output_type": "execute_result"
    }
   ],
   "source": [
    "# 列名の確認\n",
    "df.columns"
   ]
  },
  {
   "cell_type": "code",
   "execution_count": 4,
   "metadata": {},
   "outputs": [],
   "source": [
    "df = df.rename(columns={'着順':'ranking', '枠番':'flame', '馬番':'starters_num',\\\n",
    "            '性齢':'sex_old', '斤量':'weight', '騎手':'jockey', 'タイム':'time',\\\n",
    "            '着差':'arrival_diff', '単勝':'odds', '人気':'popularity','馬体重':'horse_weight', '調教師':'trainer'})"
   ]
  },
  {
   "cell_type": "code",
   "execution_count": 5,
   "metadata": {},
   "outputs": [
    {
     "data": {
      "text/plain": [
       "Index(['ranking', 'flame', 'starters_num', '馬名', 'sex_old', 'weight', 'jockey',\n",
       "       'time', 'arrival_diff', 'odds', 'popularity', 'horse_weight', 'trainer',\n",
       "       'race_id', 'horse_id', 'jockey_id', 'trainer_id', 'race_grade',\n",
       "       'race_type', 'wise', 'meter', 'weather', 'race_state', 'start_time'],\n",
       "      dtype='object')"
      ]
     },
     "execution_count": 5,
     "metadata": {},
     "output_type": "execute_result"
    }
   ],
   "source": [
    "df.columns"
   ]
  },
  {
   "cell_type": "markdown",
   "metadata": {},
   "source": [
    "### NAN値の対策"
   ]
  },
  {
   "cell_type": "code",
   "execution_count": 6,
   "metadata": {},
   "outputs": [
    {
     "data": {
      "text/plain": [
       "ranking         False\n",
       "flame           False\n",
       "starters_num    False\n",
       "馬名              False\n",
       "sex_old         False\n",
       "weight          False\n",
       "jockey          False\n",
       "time             True\n",
       "arrival_diff     True\n",
       "odds            False\n",
       "popularity       True\n",
       "horse_weight    False\n",
       "trainer         False\n",
       "race_id         False\n",
       "horse_id        False\n",
       "jockey_id       False\n",
       "trainer_id      False\n",
       "race_grade      False\n",
       "race_type       False\n",
       "wise            False\n",
       "meter           False\n",
       "weather         False\n",
       "race_state      False\n",
       "start_time      False\n",
       "dtype: bool"
      ]
     },
     "execution_count": 6,
     "metadata": {},
     "output_type": "execute_result"
    }
   ],
   "source": [
    "# nan値のあるcolumnの確認\n",
    "df.isnull().any()"
   ]
  },
  {
   "cell_type": "code",
   "execution_count": 5,
   "metadata": {},
   "outputs": [
    {
     "data": {
      "text/html": [
       "<div>\n",
       "<style scoped>\n",
       "    .dataframe tbody tr th:only-of-type {\n",
       "        vertical-align: middle;\n",
       "    }\n",
       "\n",
       "    .dataframe tbody tr th {\n",
       "        vertical-align: top;\n",
       "    }\n",
       "\n",
       "    .dataframe thead th {\n",
       "        text-align: right;\n",
       "    }\n",
       "</style>\n",
       "<table border=\"1\" class=\"dataframe\">\n",
       "  <thead>\n",
       "    <tr style=\"text-align: right;\">\n",
       "      <th></th>\n",
       "      <th>ranking</th>\n",
       "      <th>flame</th>\n",
       "      <th>starters_num</th>\n",
       "      <th>馬名</th>\n",
       "      <th>sex_old</th>\n",
       "      <th>weight</th>\n",
       "      <th>jockey</th>\n",
       "      <th>time</th>\n",
       "      <th>arrival_diff</th>\n",
       "      <th>odds</th>\n",
       "      <th>...</th>\n",
       "      <th>horse_id</th>\n",
       "      <th>jockey_id</th>\n",
       "      <th>trainer_id</th>\n",
       "      <th>race_grade</th>\n",
       "      <th>race_type</th>\n",
       "      <th>wise</th>\n",
       "      <th>meter</th>\n",
       "      <th>weather</th>\n",
       "      <th>race_state</th>\n",
       "      <th>start_time</th>\n",
       "    </tr>\n",
       "  </thead>\n",
       "  <tbody>\n",
       "    <tr>\n",
       "      <th>31</th>\n",
       "      <td>取</td>\n",
       "      <td>6</td>\n",
       "      <td>12</td>\n",
       "      <td>トキノユウ</td>\n",
       "      <td>牡3</td>\n",
       "      <td>56.0</td>\n",
       "      <td>小林淳一</td>\n",
       "      <td>NaN</td>\n",
       "      <td>NaN</td>\n",
       "      <td>---</td>\n",
       "      <td>...</td>\n",
       "      <td>2009104485</td>\n",
       "      <td>712</td>\n",
       "      <td>1007</td>\n",
       "      <td>other</td>\n",
       "      <td>ダート</td>\n",
       "      <td>右</td>\n",
       "      <td>1800</td>\n",
       "      <td>晴</td>\n",
       "      <td>良</td>\n",
       "      <td>10:20</td>\n",
       "    </tr>\n",
       "    <tr>\n",
       "      <th>470</th>\n",
       "      <td>除</td>\n",
       "      <td>4</td>\n",
       "      <td>5</td>\n",
       "      <td>エイコオレジェンド</td>\n",
       "      <td>牡5</td>\n",
       "      <td>57.0</td>\n",
       "      <td>宮崎北斗</td>\n",
       "      <td>NaN</td>\n",
       "      <td>NaN</td>\n",
       "      <td>---</td>\n",
       "      <td>...</td>\n",
       "      <td>2007103789</td>\n",
       "      <td>1118</td>\n",
       "      <td>1007</td>\n",
       "      <td>other</td>\n",
       "      <td>ダート</td>\n",
       "      <td>右</td>\n",
       "      <td>2400</td>\n",
       "      <td>晴</td>\n",
       "      <td>良</td>\n",
       "      <td>13:10</td>\n",
       "    </tr>\n",
       "    <tr>\n",
       "      <th>573</th>\n",
       "      <td>除</td>\n",
       "      <td>1</td>\n",
       "      <td>1</td>\n",
       "      <td>タニノチャーチル</td>\n",
       "      <td>牡3</td>\n",
       "      <td>56.0</td>\n",
       "      <td>岩田康誠</td>\n",
       "      <td>NaN</td>\n",
       "      <td>NaN</td>\n",
       "      <td>---</td>\n",
       "      <td>...</td>\n",
       "      <td>2009103462</td>\n",
       "      <td>5203</td>\n",
       "      <td>1107</td>\n",
       "      <td>other</td>\n",
       "      <td>ダート</td>\n",
       "      <td>右</td>\n",
       "      <td>1200</td>\n",
       "      <td>晴</td>\n",
       "      <td>良</td>\n",
       "      <td>10:35</td>\n",
       "    </tr>\n",
       "  </tbody>\n",
       "</table>\n",
       "<p>3 rows × 24 columns</p>\n",
       "</div>"
      ],
      "text/plain": [
       "    ranking  flame  starters_num         馬名 sex_old  weight jockey time  \\\n",
       "31        取      6            12      トキノユウ      牡3    56.0   小林淳一  NaN   \n",
       "470       除      4             5  エイコオレジェンド      牡5    57.0   宮崎北斗  NaN   \n",
       "573       除      1             1   タニノチャーチル      牡3    56.0   岩田康誠  NaN   \n",
       "\n",
       "    arrival_diff odds  ...    horse_id jockey_id trainer_id  race_grade  \\\n",
       "31           NaN  ---  ...  2009104485       712       1007       other   \n",
       "470          NaN  ---  ...  2007103789      1118       1007       other   \n",
       "573          NaN  ---  ...  2009103462      5203       1107       other   \n",
       "\n",
       "     race_type  wise  meter weather race_state start_time  \n",
       "31         ダート     右   1800       晴          良      10:20  \n",
       "470        ダート     右   2400       晴          良      13:10  \n",
       "573        ダート     右   1200       晴          良      10:35  \n",
       "\n",
       "[3 rows x 24 columns]"
      ]
     },
     "execution_count": 5,
     "metadata": {},
     "output_type": "execute_result"
    }
   ],
   "source": [
    "# 欠損データの確認\n",
    "df[df['popularity'].isnull()].head(3)"
   ]
  },
  {
   "cell_type": "markdown",
   "metadata": {},
   "source": [
    "##### 出走しなかったレース情報を削除する"
   ]
  },
  {
   "cell_type": "code",
   "execution_count": 6,
   "metadata": {},
   "outputs": [],
   "source": [
    "df = df[df['ranking'].str.match(r'[0-9]+', na=False)]"
   ]
  },
  {
   "cell_type": "code",
   "execution_count": 9,
   "metadata": {},
   "outputs": [
    {
     "data": {
      "text/plain": [
       "ranking         False\n",
       "flame           False\n",
       "starters_num    False\n",
       "馬名              False\n",
       "sex_old         False\n",
       "weight          False\n",
       "jockey          False\n",
       "time            False\n",
       "arrival_diff     True\n",
       "odds            False\n",
       "popularity      False\n",
       "horse_weight    False\n",
       "trainer         False\n",
       "race_id         False\n",
       "horse_id        False\n",
       "jockey_id       False\n",
       "trainer_id      False\n",
       "race_grade      False\n",
       "race_type       False\n",
       "wise            False\n",
       "meter           False\n",
       "weather         False\n",
       "race_state      False\n",
       "start_time      False\n",
       "dtype: bool"
      ]
     },
     "execution_count": 9,
     "metadata": {},
     "output_type": "execute_result"
    }
   ],
   "source": [
    "# 結果の確認\n",
    "df.isnull().any()"
   ]
  },
  {
   "cell_type": "markdown",
   "metadata": {},
   "source": [
    "### 順位と馬番の分布を確認"
   ]
  },
  {
   "cell_type": "code",
   "execution_count": 9,
   "metadata": {},
   "outputs": [],
   "source": [
    "import matplotlib.pyplot as plt\n",
    "import numpy as np"
   ]
  },
  {
   "cell_type": "code",
   "execution_count": 11,
   "metadata": {},
   "outputs": [],
   "source": [
    "visu_df = df.loc[:, ['ranking', 'starters_num', 'race_grade']]\n",
    "visu_df = visu_df[(visu_df['ranking'] == '1') & (visu_df['race_grade'] == 'G2')]"
   ]
  },
  {
   "cell_type": "code",
   "execution_count": 27,
   "metadata": {},
   "outputs": [
    {
     "data": {
      "text/plain": [
       "array([[<AxesSubplot:title={'center':'starters_num'}>]], dtype=object)"
      ]
     },
     "execution_count": 27,
     "metadata": {},
     "output_type": "execute_result"
    },
    {
     "data": {
      "image/png": "[encoded data removed]",
      "text/plain": [
       "<Figure size 432x288 with 1 Axes>"
      ]
     },
     "metadata": {
      "needs_background": "light"
     },
     "output_type": "display_data"
    }
   ],
   "source": [
    "visu_df.hist(bins=18)"
   ]
  },
  {
   "cell_type": "code",
   "execution_count": 22,
   "metadata": {},
   "outputs": [
    {
     "ename": "TypeError",
     "evalue": "bar() missing 1 required positional argument: 'height'",
     "output_type": "error",
     "traceback": [
      "\u001b[0;31m---------------------------------------------------------------------------\u001b[0m",
      "\u001b[0;31mTypeError\u001b[0m                                 Traceback (most recent call last)",
      "\u001b[1;32m/home/ysato/horce_api/race_data_analysis.ipynb Cell 20'\u001b[0m in \u001b[0;36m<cell line: 2>\u001b[0;34m()\u001b[0m\n\u001b[1;32m      <a href='vscode-notebook-cell://ssh-remote%2Bsusanoo.nagaokaut.ac.jp/home/ysato/horce_api/race_data_analysis.ipynb#ch0000018vscode-remote?line=0'>1</a>\u001b[0m plt\u001b[39m.\u001b[39mxticks(np\u001b[39m.\u001b[39marange(\u001b[39m0\u001b[39m, \u001b[39m18\u001b[39m, \u001b[39m1\u001b[39m))\n\u001b[0;32m----> <a href='vscode-notebook-cell://ssh-remote%2Bsusanoo.nagaokaut.ac.jp/home/ysato/horce_api/race_data_analysis.ipynb#ch0000018vscode-remote?line=1'>2</a>\u001b[0m plt\u001b[39m.\u001b[39;49mbar(visu_df[\u001b[39m'\u001b[39;49m\u001b[39mstarters_num\u001b[39;49m\u001b[39m'\u001b[39;49m], \u001b[39mrange\u001b[39;49m\u001b[39m=\u001b[39;49m(\u001b[39m1\u001b[39;49m,\u001b[39m19\u001b[39;49m), bins\u001b[39m=\u001b[39;49m\u001b[39m18\u001b[39;49m)\n",
      "\u001b[0;31mTypeError\u001b[0m: bar() missing 1 required positional argument: 'height'"
     ]
    },
    {
     "data": {
      "image/png": "[encoded data removed]",
      "text/plain": [
       "<Figure size 432x288 with 1 Axes>"
      ]
     },
     "metadata": {
      "needs_background": "light"
     },
     "output_type": "display_data"
    }
   ],
   "source": [
    "plt.xticks(np.arange(0, 18, 1))\n",
    "plt.bar(visu_df['starters_num'], range=(1,19), bins=18)"
   ]
  },
  {
   "cell_type": "markdown",
   "metadata": {},
   "source": [
    "### 新たな列を作成する"
   ]
  },
  {
   "cell_type": "code",
   "execution_count": 10,
   "metadata": {},
   "outputs": [],
   "source": [
    "# 必要なパッケージのインポート\n",
    "import re"
   ]
  },
  {
   "cell_type": "markdown",
   "metadata": {},
   "source": [
    "##### 性齢を性別と年齢に分割する"
   ]
  },
  {
   "cell_type": "code",
   "execution_count": 11,
   "metadata": {},
   "outputs": [],
   "source": [
    "def split_sex_old(df):\n",
    "    sexs = []\n",
    "    olds = []\n",
    "    for row in df['sex_old']:\n",
    "        sexs.append(re.sub(r'[0-9]+', '', row))\n",
    "        olds.append(re.search(r'[0-9]+', row).group())\n",
    "\n",
    "    df['sex'] = sexs\n",
    "    df['old'] = olds\n",
    "\n",
    "    return df"
   ]
  },
  {
   "cell_type": "code",
   "execution_count": 12,
   "metadata": {},
   "outputs": [],
   "source": [
    "df = split_sex_old(df)"
   ]
  },
  {
   "cell_type": "markdown",
   "metadata": {},
   "source": [
    "##### 馬体重を体重値と変化量に分ける"
   ]
  },
  {
   "cell_type": "code",
   "execution_count": 13,
   "metadata": {},
   "outputs": [
    {
     "data": {
      "text/html": [
       "<div>\n",
       "<style scoped>\n",
       "    .dataframe tbody tr th:only-of-type {\n",
       "        vertical-align: middle;\n",
       "    }\n",
       "\n",
       "    .dataframe tbody tr th {\n",
       "        vertical-align: top;\n",
       "    }\n",
       "\n",
       "    .dataframe thead th {\n",
       "        text-align: right;\n",
       "    }\n",
       "</style>\n",
       "<table border=\"1\" class=\"dataframe\">\n",
       "  <thead>\n",
       "    <tr style=\"text-align: right;\">\n",
       "      <th></th>\n",
       "      <th>ranking</th>\n",
       "      <th>flame</th>\n",
       "      <th>starters_num</th>\n",
       "      <th>馬名</th>\n",
       "      <th>sex_old</th>\n",
       "      <th>weight</th>\n",
       "      <th>jockey</th>\n",
       "      <th>time</th>\n",
       "      <th>arrival_diff</th>\n",
       "      <th>odds</th>\n",
       "      <th>...</th>\n",
       "      <th>trainer_id</th>\n",
       "      <th>race_grade</th>\n",
       "      <th>race_type</th>\n",
       "      <th>wise</th>\n",
       "      <th>meter</th>\n",
       "      <th>weather</th>\n",
       "      <th>race_state</th>\n",
       "      <th>start_time</th>\n",
       "      <th>sex</th>\n",
       "      <th>old</th>\n",
       "    </tr>\n",
       "  </thead>\n",
       "  <tbody>\n",
       "    <tr>\n",
       "      <th>72005</th>\n",
       "      <td>8</td>\n",
       "      <td>1</td>\n",
       "      <td>2</td>\n",
       "      <td>サビーナクレスタ</td>\n",
       "      <td>牡2</td>\n",
       "      <td>54.0</td>\n",
       "      <td>北村宏司</td>\n",
       "      <td>1:24.5</td>\n",
       "      <td>3/4</td>\n",
       "      <td>25.9</td>\n",
       "      <td>...</td>\n",
       "      <td>1102</td>\n",
       "      <td>other</td>\n",
       "      <td>芝</td>\n",
       "      <td>左</td>\n",
       "      <td>1400</td>\n",
       "      <td>晴</td>\n",
       "      <td>良</td>\n",
       "      <td>12:35</td>\n",
       "      <td>牡</td>\n",
       "      <td>2</td>\n",
       "    </tr>\n",
       "  </tbody>\n",
       "</table>\n",
       "<p>1 rows × 26 columns</p>\n",
       "</div>"
      ],
      "text/plain": [
       "      ranking  flame  starters_num        馬名 sex_old  weight jockey    time  \\\n",
       "72005       8      1             2  サビーナクレスタ      牡2    54.0   北村宏司  1:24.5   \n",
       "\n",
       "      arrival_diff  odds  ...  trainer_id race_grade race_type  wise  meter  \\\n",
       "72005          3/4  25.9  ...        1102      other         芝     左   1400   \n",
       "\n",
       "       weather  race_state start_time sex old  \n",
       "72005        晴           良      12:35   牡   2  \n",
       "\n",
       "[1 rows x 26 columns]"
      ]
     },
     "execution_count": 13,
     "metadata": {},
     "output_type": "execute_result"
    }
   ],
   "source": [
    "# 中身の確認\n",
    "df[~(df['horse_weight'].str.contains(r'[0-9]+'))]\n",
    "# 計量不可はなさそう?"
   ]
  },
  {
   "cell_type": "code",
   "execution_count": 14,
   "metadata": {},
   "outputs": [],
   "source": [
    "def split_horse_weight(df):\n",
    "    horse_weights = []\n",
    "    delta_weights = []\n",
    "    for row in df['horse_weight']:\n",
    "        delta_weights.append(int(re.search(r'(?<=\\().+?(?=\\))', row).group()))\n",
    "        horse_weights.append(int(re.sub(r'\\(.+\\)', '', row)))\n",
    "\n",
    "    df['horse_weight'] = horse_weights\n",
    "    df['delta_weight'] = delta_weights\n",
    "\n",
    "    return df\n",
    "        "
   ]
  },
  {
   "cell_type": "code",
   "execution_count": 15,
   "metadata": {},
   "outputs": [
    {
     "data": {
      "text/html": [
       "<div>\n",
       "<style scoped>\n",
       "    .dataframe tbody tr th:only-of-type {\n",
       "        vertical-align: middle;\n",
       "    }\n",
       "\n",
       "    .dataframe tbody tr th {\n",
       "        vertical-align: top;\n",
       "    }\n",
       "\n",
       "    .dataframe thead th {\n",
       "        text-align: right;\n",
       "    }\n",
       "</style>\n",
       "<table border=\"1\" class=\"dataframe\">\n",
       "  <thead>\n",
       "    <tr style=\"text-align: right;\">\n",
       "      <th></th>\n",
       "      <th>ranking</th>\n",
       "      <th>flame</th>\n",
       "      <th>starters_num</th>\n",
       "      <th>馬名</th>\n",
       "      <th>sex_old</th>\n",
       "      <th>weight</th>\n",
       "      <th>jockey</th>\n",
       "      <th>time</th>\n",
       "      <th>arrival_diff</th>\n",
       "      <th>odds</th>\n",
       "      <th>...</th>\n",
       "      <th>trainer_id</th>\n",
       "      <th>race_grade</th>\n",
       "      <th>race_type</th>\n",
       "      <th>wise</th>\n",
       "      <th>meter</th>\n",
       "      <th>weather</th>\n",
       "      <th>race_state</th>\n",
       "      <th>start_time</th>\n",
       "      <th>sex</th>\n",
       "      <th>old</th>\n",
       "    </tr>\n",
       "  </thead>\n",
       "  <tbody>\n",
       "    <tr>\n",
       "      <th>0</th>\n",
       "      <td>1</td>\n",
       "      <td>8</td>\n",
       "      <td>15</td>\n",
       "      <td>ナムラケイオス</td>\n",
       "      <td>牝3</td>\n",
       "      <td>54.0</td>\n",
       "      <td>蛯名正義</td>\n",
       "      <td>1:13.0</td>\n",
       "      <td>NaN</td>\n",
       "      <td>4.5</td>\n",
       "      <td>...</td>\n",
       "      <td>1116</td>\n",
       "      <td>other</td>\n",
       "      <td>ダート</td>\n",
       "      <td>右</td>\n",
       "      <td>1200</td>\n",
       "      <td>晴</td>\n",
       "      <td>良</td>\n",
       "      <td>09:50</td>\n",
       "      <td>牝</td>\n",
       "      <td>3</td>\n",
       "    </tr>\n",
       "    <tr>\n",
       "      <th>1</th>\n",
       "      <td>2</td>\n",
       "      <td>5</td>\n",
       "      <td>9</td>\n",
       "      <td>ジャーフライト</td>\n",
       "      <td>牝3</td>\n",
       "      <td>54.0</td>\n",
       "      <td>三浦皇成</td>\n",
       "      <td>1:13.1</td>\n",
       "      <td>1/2</td>\n",
       "      <td>9.0</td>\n",
       "      <td>...</td>\n",
       "      <td>428</td>\n",
       "      <td>other</td>\n",
       "      <td>ダート</td>\n",
       "      <td>右</td>\n",
       "      <td>1200</td>\n",
       "      <td>晴</td>\n",
       "      <td>良</td>\n",
       "      <td>09:50</td>\n",
       "      <td>牝</td>\n",
       "      <td>3</td>\n",
       "    </tr>\n",
       "    <tr>\n",
       "      <th>2</th>\n",
       "      <td>3</td>\n",
       "      <td>7</td>\n",
       "      <td>13</td>\n",
       "      <td>ミルテ</td>\n",
       "      <td>牝3</td>\n",
       "      <td>54.0</td>\n",
       "      <td>江田照男</td>\n",
       "      <td>1:13.7</td>\n",
       "      <td>3.1/2</td>\n",
       "      <td>87.8</td>\n",
       "      <td>...</td>\n",
       "      <td>415</td>\n",
       "      <td>other</td>\n",
       "      <td>ダート</td>\n",
       "      <td>右</td>\n",
       "      <td>1200</td>\n",
       "      <td>晴</td>\n",
       "      <td>良</td>\n",
       "      <td>09:50</td>\n",
       "      <td>牝</td>\n",
       "      <td>3</td>\n",
       "    </tr>\n",
       "    <tr>\n",
       "      <th>3</th>\n",
       "      <td>4</td>\n",
       "      <td>4</td>\n",
       "      <td>8</td>\n",
       "      <td>ツインクルスター</td>\n",
       "      <td>牝3</td>\n",
       "      <td>54.0</td>\n",
       "      <td>後藤浩輝</td>\n",
       "      <td>1:13.9</td>\n",
       "      <td>1.1/2</td>\n",
       "      <td>2.5</td>\n",
       "      <td>...</td>\n",
       "      <td>1106</td>\n",
       "      <td>other</td>\n",
       "      <td>ダート</td>\n",
       "      <td>右</td>\n",
       "      <td>1200</td>\n",
       "      <td>晴</td>\n",
       "      <td>良</td>\n",
       "      <td>09:50</td>\n",
       "      <td>牝</td>\n",
       "      <td>3</td>\n",
       "    </tr>\n",
       "    <tr>\n",
       "      <th>4</th>\n",
       "      <td>5</td>\n",
       "      <td>7</td>\n",
       "      <td>14</td>\n",
       "      <td>コスモレイラ</td>\n",
       "      <td>牝3</td>\n",
       "      <td>54.0</td>\n",
       "      <td>丹内祐次</td>\n",
       "      <td>1:14.1</td>\n",
       "      <td>1</td>\n",
       "      <td>31.0</td>\n",
       "      <td>...</td>\n",
       "      <td>1035</td>\n",
       "      <td>other</td>\n",
       "      <td>ダート</td>\n",
       "      <td>右</td>\n",
       "      <td>1200</td>\n",
       "      <td>晴</td>\n",
       "      <td>良</td>\n",
       "      <td>09:50</td>\n",
       "      <td>牝</td>\n",
       "      <td>3</td>\n",
       "    </tr>\n",
       "  </tbody>\n",
       "</table>\n",
       "<p>5 rows × 26 columns</p>\n",
       "</div>"
      ],
      "text/plain": [
       "  ranking  flame  starters_num        馬名 sex_old  weight jockey    time  \\\n",
       "0       1      8            15   ナムラケイオス      牝3    54.0   蛯名正義  1:13.0   \n",
       "1       2      5             9   ジャーフライト      牝3    54.0   三浦皇成  1:13.1   \n",
       "2       3      7            13       ミルテ      牝3    54.0   江田照男  1:13.7   \n",
       "3       4      4             8  ツインクルスター      牝3    54.0   後藤浩輝  1:13.9   \n",
       "4       5      7            14    コスモレイラ      牝3    54.0   丹内祐次  1:14.1   \n",
       "\n",
       "  arrival_diff  odds  ...  trainer_id race_grade race_type  wise  meter  \\\n",
       "0          NaN   4.5  ...        1116      other       ダート     右   1200   \n",
       "1          1/2   9.0  ...         428      other       ダート     右   1200   \n",
       "2        3.1/2  87.8  ...         415      other       ダート     右   1200   \n",
       "3        1.1/2   2.5  ...        1106      other       ダート     右   1200   \n",
       "4            1  31.0  ...        1035      other       ダート     右   1200   \n",
       "\n",
       "   weather  race_state start_time sex old  \n",
       "0        晴           良      09:50   牝   3  \n",
       "1        晴           良      09:50   牝   3  \n",
       "2        晴           良      09:50   牝   3  \n",
       "3        晴           良      09:50   牝   3  \n",
       "4        晴           良      09:50   牝   3  \n",
       "\n",
       "[5 rows x 26 columns]"
      ]
     },
     "execution_count": 15,
     "metadata": {},
     "output_type": "execute_result"
    }
   ],
   "source": [
    "df.head(5)"
   ]
  },
  {
   "cell_type": "markdown",
   "metadata": {},
   "source": [
    "### jockeyの情報を組み込むためにデータを確認"
   ]
  },
  {
   "cell_type": "code",
   "execution_count": 29,
   "metadata": {},
   "outputs": [
    {
     "data": {
      "text/plain": [
       "武豊      627\n",
       "福永祐一    615\n",
       "岩田康誠    612\n",
       "川田将雅    595\n",
       "戸崎圭太    535\n",
       "ルメール    519\n",
       "横山典弘    513\n",
       "田辺裕信    510\n",
       "池添謙一    508\n",
       "和田竜二    502\n",
       "Ｍ．デム    490\n",
       "内田博幸    485\n",
       "浜中俊     452\n",
       "松山弘平    428\n",
       "三浦皇成    419\n",
       "幸英明     415\n",
       "蛯名正義    401\n",
       "石橋脩     389\n",
       "北村宏司    363\n",
       "大野拓弥    351\n",
       "Name: jockey, dtype: int64"
      ]
     },
     "execution_count": 29,
     "metadata": {},
     "output_type": "execute_result"
    }
   ],
   "source": [
    "# 重賞の出場回数が多い上位15人までを情報として組み込む\n",
    "# 横山武の情報も入れたいが、出場回数の少なさのため妥協\n",
    "df[df['race_grade'] != 'other'].loc[:, 'jockey'].value_counts()[:20]"
   ]
  },
  {
   "cell_type": "code",
   "execution_count": 30,
   "metadata": {},
   "outputs": [
    {
     "data": {
      "text/plain": [
       "[666,\n",
       " 1014,\n",
       " 5203,\n",
       " 1088,\n",
       " 5386,\n",
       " 5339,\n",
       " 660,\n",
       " 1075,\n",
       " 1032,\n",
       " 1018,\n",
       " 5212,\n",
       " 422,\n",
       " 1115,\n",
       " 1126,\n",
       " 1122,\n",
       " 732,\n",
       " 663,\n",
       " 1077,\n",
       " 1043,\n",
       " 1096]"
      ]
     },
     "execution_count": 30,
     "metadata": {},
     "output_type": "execute_result"
    }
   ],
   "source": [
    "# listにできるか確認\n",
    "list(df[df['race_grade'] != 'other'].loc[:, 'jockey_id'].value_counts().index[:20])"
   ]
  },
  {
   "cell_type": "code",
   "execution_count": null,
   "metadata": {},
   "outputs": [],
   "source": [
    "def jockey_freq(df,top_num=20):\n",
    "    \"\"\"jockey_idを重賞の出場頻度上位n人のみに変換する関数\n",
    "\n",
    "    Parameters\n",
    "    ----------\n",
    "    df : pandas.df\n",
    "        レース情報のデータフレーム\n",
    "    top_num : int\n",
    "        出場頻度上位何人までにするか\n",
    "    \"\"\"\n",
    "    freq_list = list(df[df['race_grade'] != 'other'].loc[:, 'jockey_id'].value_counts().index[:20])\n",
    "\n",
    "    jockey_freqs = []\n",
    "    for row in df['jockey_id']:\n",
    "        if row in freq_list:\n",
    "            jockey_freqs.append(int(row))\n",
    "        else:\n",
    "            jockey_freqs.append(-1)\n",
    "\n",
    "    df['jockey_freq'] = jockey_freqs\n",
    "\n",
    "    return df\n",
    "    "
   ]
  },
  {
   "cell_type": "code",
   "execution_count": 17,
   "metadata": {},
   "outputs": [],
   "source": [
    "# pandas profilingを使ったデータの全体像を表示\n",
    "# pdp.ProfileReport(df)"
   ]
  },
  {
   "cell_type": "code",
   "execution_count": null,
   "metadata": {},
   "outputs": [],
   "source": []
  }
 ],
 "metadata": {
  "interpreter": {
   "hash": "3eafa63eb51962577285f05451afd0c1d1635d3ac9d3f8aec31acdefd3b512b4"
  },
  "kernelspec": {
   "display_name": "Python 3.9.10 ('venv': venv)",
   "language": "python",
   "name": "python3"
  },
  "language_info": {
   "codemirror_mode": {
    "name": "ipython",
    "version": 3
   },
   "file_extension": ".py",
   "mimetype": "text/x-python",
   "name": "python",
   "nbconvert_exporter": "python",
   "pygments_lexer": "ipython3",
   "version": "3.9.10"
  },
  "orig_nbformat": 4
 },
 "nbformat": 4,
 "nbformat_minor": 2
}
